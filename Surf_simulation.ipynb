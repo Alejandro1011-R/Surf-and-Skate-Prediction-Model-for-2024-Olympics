{
 "cells": [
  {
   "cell_type": "markdown",
   "metadata": {},
   "source": [
    "## Process\n"
   ]
  },
  {
   "cell_type": "markdown",
   "metadata": {},
   "source": [
    "### Extraccion de datos\n"
   ]
  },
  {
   "cell_type": "markdown",
   "metadata": {},
   "source": [
    "Los cruces fueron extraidos de la pagina oficial:\n",
    "\n",
    "https://isasurf.org/event/paris-2024/#"
   ]
  },
  {
   "cell_type": "code",
   "execution_count": 2,
   "metadata": {},
   "outputs": [
    {
     "name": "stdout",
     "output_type": "stream",
     "text": [
      "     Heat                 Name\n",
      "0   HEAT1          Ethan Ewing\n",
      "1   HEAT1            Tim Elter\n",
      "2   HEAT1          Jordy Smith\n",
      "3   HEAT2            Joan Duru\n",
      "4   HEAT2        Jack Robinson\n",
      "5   HEAT2  Matthew McGillivray\n",
      "6   HEAT3        Alonso Correa\n",
      "7   HEAT3        Filipe Toledo\n",
      "8   HEAT3       Kanoa lgarashi\n",
      "9   HEAT4       Gabriel Medina\n",
      "10  HEAT4        Connor OLeary\n",
      "11  HEAT4          Bryan Perez\n",
      "12  HEAT5       Ramzi Boukhiam\n",
      "13  HEAT5      Billy Stairmand\n",
      "14  HEAT5         João Chianca\n",
      "15  HEAT6          Andy Criere\n",
      "16  HEAT6   John John Florence\n",
      "17  HEAT6         Alan Cleland\n",
      "18  HEAT7          Kauli Vaast\n",
      "19  HEAT7        Lucca Mesinas\n",
      "20  HEAT7    Griffin Colapinto\n",
      "21  HEAT8            Rio Waida\n",
      "22  HEAT8  Leonardo Fioravanti\n",
      "23  HEAT8            Reo Inaba\n"
     ]
    }
   ],
   "source": [
    "import numpy as np\n",
    "import pandas as pd\n",
    "\n",
    "dataframe = {'Heat':['HEAT1','HEAT1','HEAT1','HEAT2','HEAT2','HEAT2','HEAT3','HEAT3','HEAT3','HEAT4','HEAT4','HEAT4','HEAT5','HEAT5','HEAT5','HEAT6','HEAT6','HEAT6','HEAT7','HEAT7','HEAT7','HEAT8','HEAT8','HEAT8'],\n",
    "             'Name':['Ethan Ewing','Tim Elter','Jordy Smith','Joan Duru' ,'Jack Robinson','Matthew McGillivray','Alonso Correa','Filipe Toledo',\n",
    "                     'Kanoa lgarashi','Gabriel Medina','Connor OLeary','Bryan Perez','Ramzi Boukhiam','Billy Stairmand','João Chianca',\n",
    "                     'Andy Criere','John John Florence','Alan Cleland','Kauli Vaast','Lucca Mesinas','Griffin Colapinto','Rio Waida','Leonardo Fioravanti',\n",
    "                     'Reo Inaba']\n",
    "             }\n",
    "\n",
    "heats = pd.DataFrame(dataframe)\n",
    "print(heats)"
   ]
  },
  {
   "cell_type": "code",
   "execution_count": 3,
   "metadata": {},
   "outputs": [
    {
     "name": "stdout",
     "output_type": "stream",
     "text": [
      "     Heat                 Name    url\n",
      "0   HEAT1          Ethan Ewing   4133\n",
      "1   HEAT1            Tim Elter  13157\n",
      "2   HEAT1          Jordy Smith    564\n",
      "3   HEAT2            Joan Duru    621\n",
      "4   HEAT2        Jack Robinson   3442\n",
      "5   HEAT2  Matthew McGillivray   3737\n",
      "6   HEAT3        Alonso Correa   1551\n",
      "7   HEAT3        Filipe Toledo   1456\n",
      "8   HEAT3       Kanoa lgarashi   3896\n",
      "9   HEAT4       Gabriel Medina   1085\n",
      "10  HEAT4        Connor OLeary   2838\n",
      "11  HEAT4          Bryan Perez  10252\n",
      "12  HEAT5       Ramzi Boukhiam   1349\n",
      "13  HEAT5      Billy Stairmand   2038\n",
      "14  HEAT5         João Chianca   9167\n",
      "15  HEAT6          Andy Criere   2649\n",
      "16  HEAT6   John John Florence    199\n",
      "17  HEAT6         Alan Cleland   9341\n",
      "18  HEAT7          Kauli Vaast   8990\n",
      "19  HEAT7        Lucca Mesinas   4391\n",
      "20  HEAT7    Griffin Colapinto   3165\n",
      "21  HEAT8            Rio Waida   9112\n",
      "22  HEAT8  Leonardo Fioravanti   2656\n",
      "23  HEAT8            Reo Inaba   1490\n"
     ]
    }
   ],
   "source": [
    "nums = [4133,13157,564,621,3442,3737,1551,1456,3896,1085,2838,10252,1349,2038,9167,2649,199,9341,8990,4391,3165,9112,2656,1490]\n",
    "heats['url'] = nums\n",
    "print(heats)"
   ]
  },
  {
   "cell_type": "code",
   "execution_count": 4,
   "metadata": {},
   "outputs": [
    {
     "name": "stdout",
     "output_type": "stream",
     "text": [
      "['https://www.worldsurfleague.com/athletes/4133/ethan-ewing?isearch=true&scategory=all', 'https://www.worldsurfleague.com/athletes/13157/tim-elter?isearch=true&scategory=all', 'https://www.worldsurfleague.com/athletes/564/jordy-smith?isearch=true&scategory=all', 'https://www.worldsurfleague.com/athletes/621/joan-duru?isearch=true&scategory=all', 'https://www.worldsurfleague.com/athletes/3442/jack-robinson?isearch=true&scategory=all', 'https://www.worldsurfleague.com/athletes/3737/matthew-mcgillivray?isearch=true&scategory=all', 'https://www.worldsurfleague.com/athletes/1551/alonso-correa?isearch=true&scategory=all', 'https://www.worldsurfleague.com/athletes/1456/filipe-toledo?isearch=true&scategory=all', 'https://www.worldsurfleague.com/athletes/3896/kanoa-lgarashi?isearch=true&scategory=all', 'https://www.worldsurfleague.com/athletes/1085/gabriel-medina?isearch=true&scategory=all', 'https://www.worldsurfleague.com/athletes/2838/connor-oleary?isearch=true&scategory=all', 'https://www.worldsurfleague.com/athletes/10252/bryan-perez?isearch=true&scategory=all', 'https://www.worldsurfleague.com/athletes/1349/ramzi-boukhiam?isearch=true&scategory=all', 'https://www.worldsurfleague.com/athletes/2038/billy-stairmand?isearch=true&scategory=all', 'https://www.worldsurfleague.com/athletes/9167/joao-chianca?isearch=true&scategory=all', 'https://www.worldsurfleague.com/athletes/2649/andy-criere?isearch=true&scategory=all', 'https://www.worldsurfleague.com/athletes/199/john-john-florence?isearch=true&scategory=all', 'https://www.worldsurfleague.com/athletes/9341/alan-cleland?isearch=true&scategory=all', 'https://www.worldsurfleague.com/athletes/8990/kauli-vaast?isearch=true&scategory=all', 'https://www.worldsurfleague.com/athletes/4391/lucca-mesinas?isearch=true&scategory=all', 'https://www.worldsurfleague.com/athletes/3165/griffin-colapinto?isearch=true&scategory=all', 'https://www.worldsurfleague.com/athletes/9112/rio-waida?isearch=true&scategory=all', 'https://www.worldsurfleague.com/athletes/2656/leonardo-fioravanti?isearch=true&scategory=all', 'https://www.worldsurfleague.com/athletes/1490/reo-inaba?isearch=true&scategory=all']\n"
     ]
    }
   ],
   "source": [
    "urls = []\n",
    "\n",
    "for name in heats.iterrows():\n",
    "  nombre = name[1].iloc[1]\n",
    "  if nombre == 'João Chianca':\n",
    "    nombre = 'Joao Chianca'\n",
    "  norm_name= nombre.replace(' ', '-').lower()\n",
    "  url = f'https://www.worldsurfleague.com/athletes/{name[1].iloc[2]}/{norm_name}?isearch=true&scategory=all'\n",
    "  urls.append(url)\n",
    "print(urls)\n"
   ]
  },
  {
   "cell_type": "markdown",
   "metadata": {},
   "source": [
    "#### Obteniendo las estadisticas de cada atleta"
   ]
  },
  {
   "cell_type": "code",
   "execution_count": 5,
   "metadata": {},
   "outputs": [],
   "source": [
    "import requests\n",
    "from bs4 import BeautifulSoup\n",
    "\n",
    "def get_stats (url, name, heat, filas):\n",
    "  response = requests.get(url)\n",
    "  soup = BeautifulSoup(response.content, 'html.parser')\n",
    "\n",
    "  table = soup.find_all('div', class_='new-athlete-stats__body')\n",
    "\n",
    "  headers = table[1].find_all('th')\n",
    "\n",
    "  columns =['Heat','Name']\n",
    "  columns.append(headers[0].find('span').get_text(strip=True))\n",
    "\n",
    "  columns.append('Average Points per Events')\n",
    "\n",
    "  rows = table[1].find_all('tr')\n",
    "\n",
    "  count=0;\n",
    "\n",
    "  for row in rows:\n",
    "    if not count:\n",
    "      count=1\n",
    "      continue\n",
    "    celd = [heat, name]\n",
    "    celdas = row.find_all('td')\n",
    "\n",
    "    if(celdas[2].get_text(strip=True) == '-'):\n",
    "      continue\n",
    "\n",
    "    celd.append(celdas[0].get_text(strip=True))\n",
    "\n",
    "\n",
    "\n",
    "    points = float(celdas[2].get_text(strip=True).replace(',',''))\n",
    "\n",
    "    events = float(celdas[3].get_text(strip=True).replace(',',''))\n",
    "\n",
    "    prom = points/events\n",
    "    celd.append(prom)\n",
    "\n",
    "    filas.append(celd)\n",
    "\n",
    "\n",
    "\n",
    "\n",
    "  return filas, columns\n"
   ]
  },
  {
   "cell_type": "code",
   "execution_count": 7,
   "metadata": {},
   "outputs": [
    {
     "name": "stdout",
     "output_type": "stream",
     "text": [
      "      Heat         Name  Year  Average Points per Events\n",
      "0    HEAT1  Ethan Ewing  2024                3418.571429\n",
      "1    HEAT1  Ethan Ewing  2023                4370.909091\n",
      "2    HEAT1  Ethan Ewing  2022                4026.363636\n",
      "3    HEAT1  Ethan Ewing  2021                2210.000000\n",
      "4    HEAT1  Ethan Ewing  2017                 977.272727\n",
      "..     ...          ...   ...                        ...\n",
      "193  HEAT8    Reo Inaba  2016                 261.428571\n",
      "194  HEAT8    Reo Inaba  2015                 139.333333\n",
      "195  HEAT8    Reo Inaba  2014                 125.800000\n",
      "196  HEAT8    Reo Inaba  2013                 141.400000\n",
      "197  HEAT8    Reo Inaba  2012                 115.750000\n",
      "\n",
      "[198 rows x 4 columns]\n"
     ]
    }
   ],
   "source": [
    "filas = []\n",
    "columns = []\n",
    "\n",
    "for i,url in enumerate(urls):\n",
    "\n",
    "  temp = get_stats(url, heats['Name'][i], heats['Heat'][i], filas)\n",
    "  columns = temp[1]\n",
    "  filas = temp[0]\n",
    "\n",
    "\n",
    "\n",
    "df2 = pd.DataFrame(filas, columns=columns)\n",
    "\n",
    "\n",
    "print(df2)"
   ]
  },
  {
   "cell_type": "code",
   "execution_count": 291,
   "metadata": {},
   "outputs": [],
   "source": [
    "df2.to_csv('heats.csv', index=False)"
   ]
  },
  {
   "cell_type": "markdown",
   "metadata": {},
   "source": [
    "### Ronda 1"
   ]
  },
  {
   "cell_type": "code",
   "execution_count": 20,
   "metadata": {},
   "outputs": [],
   "source": [
    "\n",
    "from sklearn.neighbors import KernelDensity\n",
    "\n",
    "df_unique = df2.drop_duplicates(subset='Name', keep='first')\n",
    "\n",
    "kdes=[]\n",
    "\n",
    "\n",
    "for name in df_unique['Name']:\n",
    "  points = df2.loc[df2['Name'] == name, 'Average Points per Events']\n",
    "  dataset = points.values[:, np.newaxis]\n",
    "  kde = KernelDensity(kernel='gaussian', bandwidth=0.5).fit(dataset)\n",
    "\n",
    "  kdes.append([name,kde])\n"
   ]
  },
  {
   "cell_type": "code",
   "execution_count": 21,
   "metadata": {},
   "outputs": [
    {
     "name": "stdout",
     "output_type": "stream",
     "text": [
      "[          Name    1st    2nd     3rd\n",
      "1  Jordy Smith  668.0  332.0     0.0\n",
      "0  Ethan Ewing  332.0  668.0     0.0\n",
      "2    Tim Elter    0.0    0.0  1000.0,                   Name  1st  2nd  3rd\n",
      "0        Jack Robinson  587  102  311\n",
      "2  Matthew McGillivray  263  412  325\n",
      "1            Joan Duru  150  486  364,              Name    1st  2nd    3rd\n",
      "1   Filipe Toledo  784.0  158   58.0\n",
      "2  Kanoa lgarashi  216.0  784    0.0\n",
      "0   Alonso Correa    0.0   58  942.0,              Name    1st    2nd     3rd\n",
      "2  Gabriel Medina  912.0   88.0     0.0\n",
      "1   Connor OLeary   88.0  912.0     0.0\n",
      "0     Bryan Perez    0.0    0.0  1000.0,               Name  1st  2nd  3rd\n",
      "1     João Chianca  444  156  400\n",
      "2   Ramzi Boukhiam  320  342  338\n",
      "0  Billy Stairmand  236  502  262,                  Name     1st    2nd    3rd\n",
      "2  John John Florence  1000.0    0.0    0.0\n",
      "0        Alan Cleland     0.0  663.0  337.0\n",
      "1         Andy Criere     0.0  337.0  663.0,                 Name  1st  2nd  3rd\n",
      "0  Griffin Colapinto  923   66   11\n",
      "2      Lucca Mesinas   51  244  705\n",
      "1        Kauli Vaast   26  690  284,                   Name  1st  2nd  3rd\n",
      "2            Rio Waida  544  439   17\n",
      "0  Leonardo Fioravanti  453  474   73\n",
      "1            Reo Inaba    3   87  910]\n"
     ]
    }
   ],
   "source": [
    "def simulate_tournament(kdes):\n",
    "\n",
    "  oficial_results=[]\n",
    "\n",
    "  for i in range(8):\n",
    "    name_result=[]\n",
    "    a=i*3\n",
    "\n",
    "    for _ in range(1000):\n",
    "      simulations = []\n",
    "      for j in range(3):\n",
    "        simulated_points = []\n",
    "        while True:\n",
    "          simulated_points = kdes[a+j][1].sample(1).flatten()\n",
    "          if simulated_points[0] > 0:\n",
    "            break\n",
    "        simulations.append((kdes[a+j][0],simulated_points[0]))\n",
    "     \n",
    "\n",
    "      simulations.sort(key=lambda x: x[1], reverse=True)\n",
    "\n",
    "      name_result.append([sim[0] for sim in simulations])\n",
    "\n",
    "\n",
    "    name_results = pd.DataFrame(name_result, columns=['1st', '2nd', '3rd'])\n",
    "\n",
    "    top_3_names = name_results.apply(pd.Series.value_counts).fillna(0).reset_index()\n",
    "\n",
    "    top_3_names.columns = ['Name', '1st', '2nd', '3rd']\n",
    "\n",
    "    top_3_names = top_3_names.sort_values(by='1st', ascending=False)\n",
    "\n",
    "    count = 0\n",
    "    \n",
    "    oficial_results.append(top_3_names)\n",
    "    \n",
    "\n",
    "  return oficial_results\n",
    "\n",
    "\n",
    "\n",
    "\n",
    "\n",
    "oficial_results = simulate_tournament(kdes)\n",
    "print(oficial_results)"
   ]
  },
  {
   "cell_type": "markdown",
   "metadata": {},
   "source": [
    "### Ronda 2"
   ]
  },
  {
   "cell_type": "code",
   "execution_count": 28,
   "metadata": {},
   "outputs": [
    {
     "name": "stdout",
     "output_type": "stream",
     "text": [
      "[(['Alan Cleland', KernelDensity(bandwidth=0.5)], ['Alonso Correa', KernelDensity(bandwidth=0.5)]), (['Bryan Perez', KernelDensity(bandwidth=0.5)], ['Connor OLeary', KernelDensity(bandwidth=0.5)]), (['Leonardo Fioravanti', KernelDensity(bandwidth=0.5)], ['Billy Stairmand', KernelDensity(bandwidth=0.5)]), (['Lucca Mesinas', KernelDensity(bandwidth=0.5)], ['Andy Criere', KernelDensity(bandwidth=0.5)]), (['Joan Duru', KernelDensity(bandwidth=0.5)], ['Ethan Ewing', KernelDensity(bandwidth=0.5)]), (['Kanoa lgarashi', KernelDensity(bandwidth=0.5)], ['Kauli Vaast', KernelDensity(bandwidth=0.5)]), (['Reo Inaba', KernelDensity(bandwidth=0.5)], ['Tim Elter', KernelDensity(bandwidth=0.5)]), (['Matthew McGillivray', KernelDensity(bandwidth=0.5)], ['Ramzi Boukhiam', KernelDensity(bandwidth=0.5)])]\n"
     ]
    }
   ],
   "source": [
    "import random\n",
    "kdes_round_2 = []\n",
    "\n",
    "for heat in oficial_results:\n",
    "  count=0\n",
    "  for name in heat.iterrows():\n",
    "    if count==0:\n",
    "      count= 1\n",
    "      continue\n",
    "    nombre = name[1].iloc[0]\n",
    "    for x in kdes:\n",
    "      if nombre == x[0]:\n",
    "        kdes_round_2.append(x)\n",
    "        break\n",
    "      \n",
    "\n",
    "\n",
    "random.shuffle(kdes_round_2)\n",
    "\n",
    "pairs = [(kdes_round_2[i], kdes_round_2[i+1]) for i in range(0, len(kdes_round_2), 2)]\n",
    "\n",
    "print(pairs)\n"
   ]
  },
  {
   "cell_type": "code",
   "execution_count": 31,
   "metadata": {},
   "outputs": [
    {
     "name": "stdout",
     "output_type": "stream",
     "text": [
      "[            Name  1st  2nd\n",
      "0   Alan Cleland  560  440\n",
      "1  Alonso Correa  440  560,             Name     1st     2nd\n",
      "1  Connor OLeary  1000.0     0.0\n",
      "0    Bryan Perez     0.0  1000.0,                   Name  1st  2nd\n",
      "1  Leonardo Fioravanti  860  140\n",
      "0      Billy Stairmand  140  860,             Name  1st  2nd\n",
      "1  Lucca Mesinas  506  494\n",
      "0    Andy Criere  494  506,           Name  1st  2nd\n",
      "0  Ethan Ewing  808  192\n",
      "1    Joan Duru  192  808,              Name  1st  2nd\n",
      "0  Kanoa lgarashi  980   20\n",
      "1     Kauli Vaast   20  980,         Name  1st  2nd\n",
      "0  Reo Inaba  885  115\n",
      "1  Tim Elter  115  885,                   Name  1st  2nd\n",
      "0  Matthew McGillivray  601  399\n",
      "1       Ramzi Boukhiam  399  601]\n"
     ]
    }
   ],
   "source": [
    "def simulate_round_2(kdes):\n",
    "\n",
    "  oficial_results=[]\n",
    "\n",
    "  for i in range(8):\n",
    "    name_result=[]\n",
    "    for _ in range(1000):\n",
    "      simulations = []\n",
    "      for j in range(2):\n",
    "        simulated_points = []\n",
    "        while True:\n",
    "          simulated_points = kdes[i][j][1].sample(1).flatten()\n",
    "          if simulated_points[0] > 0:\n",
    "            break\n",
    "        simulations.append((kdes[i][j][0],simulated_points[0]))\n",
    "\n",
    "      simulations.sort(key=lambda x: x[1], reverse=True)\n",
    "      name_result.append([sim[0] for sim in simulations])\n",
    "\n",
    "    name_results = pd.DataFrame(name_result, columns=['1st', '2nd'])\n",
    "\n",
    "    top_by_heat = name_results.apply(pd.Series.value_counts).fillna(0).reset_index()\n",
    "\n",
    "    top_by_heat.columns = ['Name', '1st', '2nd']\n",
    "\n",
    "    top_by_heat = top_by_heat.sort_values(by='1st', ascending=False)\n",
    "\n",
    "    count = 0\n",
    "    \n",
    "    oficial_results.append(top_by_heat)\n",
    "\n",
    "  return oficial_results\n",
    "\n",
    "\n",
    "\n",
    "\n",
    "\n",
    "round_2_results = simulate_round_2(pairs)\n",
    "print(round_2_results)"
   ]
  },
  {
   "cell_type": "markdown",
   "metadata": {},
   "source": [
    "### Ronda 3"
   ]
  },
  {
   "cell_type": "code",
   "execution_count": 32,
   "metadata": {},
   "outputs": [
    {
     "name": "stdout",
     "output_type": "stream",
     "text": [
      "[(['Matthew McGillivray', KernelDensity(bandwidth=0.5)], ['Ethan Ewing', KernelDensity(bandwidth=0.5)]), (['Lucca Mesinas', KernelDensity(bandwidth=0.5)], ['Alan Cleland', KernelDensity(bandwidth=0.5)]), (['Jordy Smith', KernelDensity(bandwidth=0.5)], ['Filipe Toledo', KernelDensity(bandwidth=0.5)]), (['Reo Inaba', KernelDensity(bandwidth=0.5)], ['Kanoa lgarashi', KernelDensity(bandwidth=0.5)]), (['Connor OLeary', KernelDensity(bandwidth=0.5)], ['John John Florence', KernelDensity(bandwidth=0.5)]), (['Rio Waida', KernelDensity(bandwidth=0.5)], ['Gabriel Medina', KernelDensity(bandwidth=0.5)]), (['João Chianca', KernelDensity(bandwidth=0.5)], ['Leonardo Fioravanti', KernelDensity(bandwidth=0.5)]), (['Jack Robinson', KernelDensity(bandwidth=0.5)], ['Griffin Colapinto', KernelDensity(bandwidth=0.5)])]\n"
     ]
    }
   ],
   "source": [
    "kdes_round_3 = []\n",
    "\n",
    "for heat in round_2_results:\n",
    "  for i in heat.iterrows():\n",
    "    nombre = i[1].iloc[0]\n",
    "    for k in kdes_round_2:\n",
    "      if k[0] == nombre:\n",
    "        kdes_round_3.append(k)\n",
    "        break\n",
    "    break\n",
    "\n",
    "for heat in oficial_results:\n",
    "  for i in heat.iterrows():\n",
    "    nombre = i[1].iloc[0]\n",
    "    for k in kdes:\n",
    "      if k[0] == nombre:\n",
    "        kdes_round_3.append(k)\n",
    "        break\n",
    "    break\n",
    "\n",
    "random.shuffle(kdes_round_3)\n",
    "pairs = [(kdes_round_3[i], kdes_round_3[i+1]) for i in range(0, len(kdes_round_3), 2)]\n",
    "print(pairs)\n"
   ]
  },
  {
   "cell_type": "code",
   "execution_count": 33,
   "metadata": {},
   "outputs": [
    {
     "name": "stdout",
     "output_type": "stream",
     "text": [
      "[                  Name  1st  2nd\n",
      "0          Ethan Ewing  768  232\n",
      "1  Matthew McGillivray  232  768,             Name  1st  2nd\n",
      "0   Alan Cleland  576  424\n",
      "1  Lucca Mesinas  424  576,             Name  1st  2nd\n",
      "0  Filipe Toledo  522  478\n",
      "1    Jordy Smith  478  522,              Name     1st     2nd\n",
      "0  Kanoa lgarashi  1000.0     0.0\n",
      "1       Reo Inaba     0.0  1000.0,                  Name  1st  2nd\n",
      "1  John John Florence  902   98\n",
      "0       Connor OLeary   98  902,              Name  1st  2nd\n",
      "0  Gabriel Medina  926   74\n",
      "1       Rio Waida   74  926,                   Name  1st  2nd\n",
      "1  Leonardo Fioravanti  615  385\n",
      "0         João Chianca  385  615,                 Name  1st  2nd\n",
      "0  Griffin Colapinto  605  395\n",
      "1      Jack Robinson  395  605]\n"
     ]
    }
   ],
   "source": [
    "def simulate_round_3(kdes):\n",
    "\n",
    "  oficial_results=[]\n",
    "\n",
    "  for i in range(8):\n",
    "    name_result=[]\n",
    "\n",
    "    for _ in range(1000):\n",
    "      simulations = []\n",
    "      for j in range(2):\n",
    "        simulated_points = []\n",
    "        while True:\n",
    "          simulated_points = kdes[i][j][1].sample(1).flatten()\n",
    "          if simulated_points[0] > 0:\n",
    "            break\n",
    "        simulations.append((kdes[i][j][0],simulated_points[0]))\n",
    "\n",
    "      simulations.sort(key=lambda x: x[1], reverse=True)\n",
    "      name_result.append([sim[0] for sim in simulations])\n",
    "\n",
    "    name_results = pd.DataFrame(name_result, columns=['1st', '2nd'])\n",
    "\n",
    "    top_by_heat = name_results.apply(pd.Series.value_counts).fillna(0).reset_index()\n",
    "\n",
    "    top_by_heat.columns = ['Name', '1st', '2nd']\n",
    "\n",
    "    top_by_heat = top_by_heat.sort_values(by='1st', ascending=False)\n",
    "\n",
    "    oficial_results.append(top_by_heat)\n",
    "\n",
    "  return oficial_results\n",
    "\n",
    "\n",
    "\n",
    "\n",
    "\n",
    "round_3_results = simulate_round_3(pairs)\n",
    "print(round_3_results)"
   ]
  },
  {
   "cell_type": "markdown",
   "metadata": {},
   "source": [
    "### Cuartos de final"
   ]
  },
  {
   "cell_type": "code",
   "execution_count": 34,
   "metadata": {},
   "outputs": [
    {
     "name": "stdout",
     "output_type": "stream",
     "text": [
      "[(['Ethan Ewing', KernelDensity(bandwidth=0.5)], ['Alan Cleland', KernelDensity(bandwidth=0.5)]), (['Filipe Toledo', KernelDensity(bandwidth=0.5)], ['Kanoa lgarashi', KernelDensity(bandwidth=0.5)]), (['John John Florence', KernelDensity(bandwidth=0.5)], ['Gabriel Medina', KernelDensity(bandwidth=0.5)]), (['Leonardo Fioravanti', KernelDensity(bandwidth=0.5)], ['Griffin Colapinto', KernelDensity(bandwidth=0.5)])]\n"
     ]
    }
   ],
   "source": [
    "kdes_quarter_finals = []\n",
    "\n",
    "for heat in round_3_results:\n",
    "  for i in heat.iterrows():\n",
    "    nombre = i[1].iloc[0]\n",
    "    for k in kdes_round_3:\n",
    "      if k[0] == nombre:\n",
    "        kdes_quarter_finals.append(k)\n",
    "        break\n",
    "    break\n",
    "\n",
    "\n",
    "pairs = [(kdes_quarter_finals[i], kdes_quarter_finals[i+1]) for i in range(0, len(kdes_quarter_finals), 2)]\n",
    "print(pairs)\n"
   ]
  },
  {
   "cell_type": "code",
   "execution_count": 35,
   "metadata": {},
   "outputs": [
    {
     "name": "stdout",
     "output_type": "stream",
     "text": [
      "[           Name  1st  2nd\n",
      "1   Ethan Ewing  954   46\n",
      "0  Alan Cleland   46  954,              Name  1st  2nd\n",
      "0   Filipe Toledo  784  216\n",
      "1  Kanoa lgarashi  216  784,                  Name  1st  2nd\n",
      "0      Gabriel Medina  586  414\n",
      "1  John John Florence  414  586,                   Name  1st  2nd\n",
      "0    Griffin Colapinto  882  118\n",
      "1  Leonardo Fioravanti  118  882]\n"
     ]
    }
   ],
   "source": [
    "def simulate_quarter(kdes):\n",
    "\n",
    "  oficial_results=[]\n",
    "\n",
    "  for i in range(4):\n",
    "    name_result=[]\n",
    "\n",
    "    for _ in range(1000):\n",
    "      simulations = []\n",
    "      for j in range(2):\n",
    "        simulated_points = []\n",
    "        while True:\n",
    "          simulated_points = kdes[i][j][1].sample(1).flatten()\n",
    "          if simulated_points[0] > 0:\n",
    "            break\n",
    "        simulations.append((kdes[i][j][0],simulated_points[0]))\n",
    "\n",
    "      simulations.sort(key=lambda x: x[1], reverse=True)\n",
    "      name_result.append([sim[0] for sim in simulations])\n",
    "\n",
    "    name_results = pd.DataFrame(name_result, columns=['1st', '2nd'])\n",
    "\n",
    "    top_by_heat = name_results.apply(pd.Series.value_counts).fillna(0).reset_index()\n",
    "\n",
    "    top_by_heat.columns = ['Name', '1st', '2nd']\n",
    "\n",
    "    top_by_heat = top_by_heat.sort_values(by='1st', ascending=False)\n",
    "\n",
    "    oficial_results.append(top_by_heat)\n",
    "\n",
    "  return oficial_results\n",
    "\n",
    "quarter_results = simulate_quarter(pairs)\n",
    "print(quarter_results)"
   ]
  },
  {
   "cell_type": "markdown",
   "metadata": {},
   "source": [
    "### Semifinal"
   ]
  },
  {
   "cell_type": "code",
   "execution_count": 36,
   "metadata": {},
   "outputs": [
    {
     "name": "stdout",
     "output_type": "stream",
     "text": [
      "[(['Ethan Ewing', KernelDensity(bandwidth=0.5)], ['Filipe Toledo', KernelDensity(bandwidth=0.5)]), (['Gabriel Medina', KernelDensity(bandwidth=0.5)], ['Griffin Colapinto', KernelDensity(bandwidth=0.5)])]\n"
     ]
    }
   ],
   "source": [
    "kdes_semi_finals = []\n",
    "\n",
    "for heat in quarter_results:\n",
    "  for i in heat.iterrows():\n",
    "    nombre = i[1].iloc[0]\n",
    "    for k in kdes_quarter_finals:\n",
    "      if k[0] == nombre:\n",
    "        kdes_semi_finals.append(k)\n",
    "        break\n",
    "    break\n",
    "\n",
    "pairs = [(kdes_semi_finals[i], kdes_semi_finals[i+1]) for i in range(0, len(kdes_semi_finals), 2)]\n",
    "print(pairs)\n"
   ]
  },
  {
   "cell_type": "code",
   "execution_count": 37,
   "metadata": {},
   "outputs": [
    {
     "name": "stdout",
     "output_type": "stream",
     "text": [
      "[            Name  1st  2nd\n",
      "1  Filipe Toledo  690  310\n",
      "0    Ethan Ewing  310  690,                 Name  1st  2nd\n",
      "0     Gabriel Medina  843  157\n",
      "1  Griffin Colapinto  157  843]\n"
     ]
    }
   ],
   "source": [
    "def simulate_semis(kdes):\n",
    "\n",
    "  oficial_results=[]\n",
    "\n",
    "  for i in range(2):\n",
    "    name_result=[]\n",
    "\n",
    "    for _ in range(1000):\n",
    "      simulations = []\n",
    "      for j in range(2):\n",
    "        simulated_points = []\n",
    "        while True:\n",
    "          simulated_points = kdes[i][j][1].sample(1).flatten()\n",
    "          if simulated_points[0] > 0:\n",
    "            break\n",
    "        simulations.append((kdes[i][j][0],simulated_points[0]))\n",
    "\n",
    "      simulations.sort(key=lambda x: x[1], reverse=True)\n",
    "      name_result.append([sim[0] for sim in simulations])\n",
    "\n",
    "    name_results = pd.DataFrame(name_result, columns=['1st', '2nd'])\n",
    "\n",
    "    top_by_heat = name_results.apply(pd.Series.value_counts).fillna(0).reset_index()\n",
    "\n",
    "    top_by_heat.columns = ['Name', '1st', '2nd']\n",
    "\n",
    "    top_by_heat = top_by_heat.sort_values(by='1st', ascending=False)\n",
    "\n",
    "    oficial_results.append(top_by_heat)\n",
    "\n",
    "  return oficial_results\n",
    "\n",
    "\n",
    "\n",
    "semis_results = simulate_semis(pairs)\n",
    "print(semis_results)"
   ]
  },
  {
   "cell_type": "code",
   "execution_count": 38,
   "metadata": {},
   "outputs": [
    {
     "name": "stdout",
     "output_type": "stream",
     "text": [
      "[(['Filipe Toledo', KernelDensity(bandwidth=0.5)], ['Gabriel Medina', KernelDensity(bandwidth=0.5)])]\n"
     ]
    }
   ],
   "source": [
    "kdes_final = []\n",
    "\n",
    "for heat in semis_results:\n",
    "  for i in heat.iterrows():\n",
    "    nombre = i[1].iloc[0]\n",
    "    for k in kdes_semi_finals:\n",
    "      if k[0] == nombre:\n",
    "        kdes_final.append(k)\n",
    "        break\n",
    "    break\n",
    "\n",
    "\n",
    "pairs = [(kdes_final[i], kdes_final[i+1]) for i in range(0, len(kdes_final), 2)]\n",
    "print(pairs)\n"
   ]
  },
  {
   "cell_type": "code",
   "execution_count": 39,
   "metadata": {},
   "outputs": [
    {
     "name": "stdout",
     "output_type": "stream",
     "text": [
      "[(['Ethan Ewing', KernelDensity(bandwidth=0.5)], ['Griffin Colapinto', KernelDensity(bandwidth=0.5)])]\n"
     ]
    }
   ],
   "source": [
    "kdes_3rd = []\n",
    "\n",
    "for heat in semis_results:\n",
    "  count =1\n",
    "  for i in heat.iterrows():\n",
    "    if count:\n",
    "      count=0\n",
    "      continue\n",
    "    nombre = i[1].iloc[0]\n",
    "    for k in kdes_semi_finals:\n",
    "      if k[0] == nombre:\n",
    "        kdes_3rd.append(k)\n",
    "        break\n",
    "    break\n",
    "\n",
    "\n",
    "\n",
    "\n",
    "pairs3 = [(kdes_3rd[i], kdes_3rd[i+1]) for i in range(0, len(kdes_3rd), 2)]\n",
    "print(pairs3)"
   ]
  },
  {
   "cell_type": "markdown",
   "metadata": {},
   "source": [
    "### 3er puesto"
   ]
  },
  {
   "cell_type": "code",
   "execution_count": 40,
   "metadata": {},
   "outputs": [
    {
     "name": "stdout",
     "output_type": "stream",
     "text": [
      "The 3rd place is Ethan Ewing\n"
     ]
    }
   ],
   "source": [
    "def simulate_3rd(kdes):\n",
    "\n",
    "  oficial_results=[]\n",
    "\n",
    "  for i in range(1):\n",
    "    name_result=[]\n",
    "\n",
    "    for _ in range(1000):\n",
    "      simulations = []\n",
    "      for j in range(2):\n",
    "        simulated_points = []\n",
    "        while True:\n",
    "          simulated_points = kdes[i][j][1].sample(1).flatten()\n",
    "          if simulated_points[0] > 0:\n",
    "            break\n",
    "        simulations.append((kdes[i][j][0],simulated_points[0]))\n",
    "\n",
    "      simulations.sort(key=lambda x: x[1], reverse=True)\n",
    "      name_result.append([sim[0] for sim in simulations])\n",
    "\n",
    "    name_results = pd.DataFrame(name_result, columns=['1st', '2nd'])\n",
    "\n",
    "    top_by_heat = name_results.apply(pd.Series.value_counts).fillna(0).reset_index()\n",
    "\n",
    "    top_by_heat.columns = ['Name', '1st', '2nd']\n",
    "\n",
    "    top_by_heat = top_by_heat.sort_values(by='1st', ascending=False)\n",
    "\n",
    "    oficial_results.append(top_by_heat)\n",
    "\n",
    "  return oficial_results\n",
    "\n",
    "\n",
    "\n",
    "\n",
    "\n",
    "final_results = simulate_3rd(pairs3)\n",
    "print(f'The 3rd place is {final_results[0]['Name'][0]}')"
   ]
  },
  {
   "cell_type": "markdown",
   "metadata": {},
   "source": [
    "### Final"
   ]
  },
  {
   "cell_type": "code",
   "execution_count": 42,
   "metadata": {},
   "outputs": [
    {
     "name": "stdout",
     "output_type": "stream",
     "text": [
      "The winner is Filipe Toledo\n",
      "The 2nd place is Gabriel Medina\n"
     ]
    }
   ],
   "source": [
    "def simulate_final(kdes):\n",
    "\n",
    "  oficial_results=[]\n",
    "\n",
    "  for i in range(1):\n",
    "    name_result=[]\n",
    "\n",
    "    for _ in range(1000):\n",
    "      simulations = []\n",
    "      for j in range(2):\n",
    "        simulated_points = []\n",
    "        while True:\n",
    "          simulated_points = kdes[i][j][1].sample(1).flatten()\n",
    "          if simulated_points[0] > 0:\n",
    "            break\n",
    "        simulations.append((kdes[i][j][0],simulated_points[0]))\n",
    "   \n",
    "\n",
    "      simulations.sort(key=lambda x: x[1], reverse=True)\n",
    "      name_result.append([sim[0] for sim in simulations])\n",
    "\n",
    "    name_results = pd.DataFrame(name_result, columns=['1st', '2nd'])\n",
    "\n",
    "    top_by_heat = name_results.apply(pd.Series.value_counts).fillna(0).reset_index()\n",
    "\n",
    "    top_by_heat.columns = ['Name', '1st', '2nd']\n",
    "\n",
    "    top_by_heat = top_by_heat.sort_values(by='1st', ascending=False)\n",
    "\n",
    "    oficial_results.append(top_by_heat)\n",
    "\n",
    "  return oficial_results\n",
    "\n",
    "\n",
    "\n",
    "\n",
    "\n",
    "final_results = simulate_final(pairs)\n",
    "print(f'The winner is {final_results[0]['Name'][0]}')\n",
    "print(f'The 2nd place is {final_results[0]['Name'][1]}')"
   ]
  }
 ],
 "metadata": {
  "kernelspec": {
   "display_name": "Python 3",
   "language": "python",
   "name": "python3"
  },
  "language_info": {
   "codemirror_mode": {
    "name": "ipython",
    "version": 3
   },
   "file_extension": ".py",
   "mimetype": "text/x-python",
   "name": "python",
   "nbconvert_exporter": "python",
   "pygments_lexer": "ipython3",
   "version": "3.12.3"
  }
 },
 "nbformat": 4,
 "nbformat_minor": 2
}
