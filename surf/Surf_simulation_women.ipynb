{
 "cells": [
  {
   "cell_type": "markdown",
   "metadata": {},
   "source": [
    "## Process\n"
   ]
  },
  {
   "cell_type": "markdown",
   "metadata": {},
   "source": [
    "### Extraccion de datos\n"
   ]
  },
  {
   "cell_type": "code",
   "execution_count": 6,
   "metadata": {},
   "outputs": [
    {
     "name": "stdout",
     "output_type": "stream",
     "text": [
      "     Heat                 Name\n",
      "0   HEAT1          Ethan Ewing\n",
      "1   HEAT1            Tim Elter\n",
      "2   HEAT1          Jordy Smith\n",
      "3   HEAT2            Joan Duru\n",
      "4   HEAT2        Jack Robinson\n",
      "5   HEAT2  Matthew McGillivray\n",
      "6   HEAT3        Alonso Correa\n",
      "7   HEAT3        Filipe Toledo\n",
      "8   HEAT3       Kanoa lgarashi\n",
      "9   HEAT4       Gabriel Medina\n",
      "10  HEAT4        Connor OLeary\n",
      "11  HEAT4          Bryan Perez\n",
      "12  HEAT5       Ramzi Boukhiam\n",
      "13  HEAT5      Billy Stairmand\n",
      "14  HEAT5         João Chianca\n",
      "15  HEAT6          Andy Criere\n",
      "16  HEAT6   John John Florence\n",
      "17  HEAT6         Alan Cleland\n",
      "18  HEAT7          Kauli Vaast\n",
      "19  HEAT7        Lucca Mesinas\n",
      "20  HEAT7    Griffin Colapinto\n",
      "21  HEAT8            Rio Waida\n",
      "22  HEAT8  Leonardo Fioravanti\n",
      "23  HEAT8            Reo Inaba\n"
     ]
    }
   ],
   "source": [
    "import numpy as np\n",
    "import pandas as pd\n",
    "\n",
    "dataframe = {'Heat':['HEAT1','HEAT1','HEAT1','HEAT2','HEAT2','HEAT2','HEAT3','HEAT3','HEAT3','HEAT4','HEAT4','HEAT4','HEAT5','HEAT5','HEAT5','HEAT6','HEAT6','HEAT6','HEAT7','HEAT7','HEAT7','HEAT8','HEAT8','HEAT8'],\n",
    "             'Name':['Ethan Ewing','Tim Elter','Jordy Smith','Joan Duru' ,'Jack Robinson','Matthew McGillivray','Alonso Correa','Filipe Toledo',\n",
    "                     'Kanoa lgarashi','Gabriel Medina','Connor OLeary','Bryan Perez','Ramzi Boukhiam','Billy Stairmand','João Chianca',\n",
    "                     'Andy Criere','John John Florence','Alan Cleland','Kauli Vaast','Lucca Mesinas','Griffin Colapinto','Rio Waida','Leonardo Fioravanti',\n",
    "                     'Reo Inaba']\n",
    "             }\n",
    "\n",
    "heats = pd.DataFrame(dataframe)\n",
    "print(heats)"
   ]
  },
  {
   "cell_type": "code",
   "execution_count": 3,
   "metadata": {},
   "outputs": [
    {
     "name": "stdout",
     "output_type": "stream",
     "text": [
      "     Heat                 Name    url\n",
      "0   HEAT1          Ethan Ewing   4133\n",
      "1   HEAT1            Tim Elter  13157\n",
      "2   HEAT1          Jordy Smith    564\n",
      "3   HEAT2            Joan Duru    621\n",
      "4   HEAT2        Jack Robinson   3442\n",
      "5   HEAT2  Matthew McGillivray   3737\n",
      "6   HEAT3        Alonso Correa   1551\n",
      "7   HEAT3        Filipe Toledo   1456\n",
      "8   HEAT3       Kanoa lgarashi   3896\n",
      "9   HEAT4       Gabriel Medina   1085\n",
      "10  HEAT4        Connor OLeary   2838\n",
      "11  HEAT4          Bryan Perez  10252\n",
      "12  HEAT5       Ramzi Boukhiam   1349\n",
      "13  HEAT5      Billy Stairmand   2038\n",
      "14  HEAT5         João Chianca   9167\n",
      "15  HEAT6          Andy Criere   2649\n",
      "16  HEAT6   John John Florence    199\n",
      "17  HEAT6         Alan Cleland   9341\n",
      "18  HEAT7          Kauli Vaast   8990\n",
      "19  HEAT7        Lucca Mesinas   4391\n",
      "20  HEAT7    Griffin Colapinto   3165\n",
      "21  HEAT8            Rio Waida   9112\n",
      "22  HEAT8  Leonardo Fioravanti   2656\n",
      "23  HEAT8            Reo Inaba   1490\n"
     ]
    }
   ],
   "source": [
    "nums = [4133,13157,564,621,3442,3737,1551,1456,3896,1085,2838,10252,1349,2038,9167,2649,199,9341,8990,4391,3165,9112,2656,1490]\n",
    "heats['url'] = nums\n",
    "print(heats)"
   ]
  },
  {
   "cell_type": "code",
   "execution_count": 4,
   "metadata": {},
   "outputs": [
    {
     "name": "stdout",
     "output_type": "stream",
     "text": [
      "['https://www.worldsurfleague.com/athletes/4133/ethan-ewing?isearch=true&scategory=all', 'https://www.worldsurfleague.com/athletes/13157/tim-elter?isearch=true&scategory=all', 'https://www.worldsurfleague.com/athletes/564/jordy-smith?isearch=true&scategory=all', 'https://www.worldsurfleague.com/athletes/621/joan-duru?isearch=true&scategory=all', 'https://www.worldsurfleague.com/athletes/3442/jack-robinson?isearch=true&scategory=all', 'https://www.worldsurfleague.com/athletes/3737/matthew-mcgillivray?isearch=true&scategory=all', 'https://www.worldsurfleague.com/athletes/1551/alonso-correa?isearch=true&scategory=all', 'https://www.worldsurfleague.com/athletes/1456/filipe-toledo?isearch=true&scategory=all', 'https://www.worldsurfleague.com/athletes/3896/kanoa-lgarashi?isearch=true&scategory=all', 'https://www.worldsurfleague.com/athletes/1085/gabriel-medina?isearch=true&scategory=all', 'https://www.worldsurfleague.com/athletes/2838/connor-oleary?isearch=true&scategory=all', 'https://www.worldsurfleague.com/athletes/10252/bryan-perez?isearch=true&scategory=all', 'https://www.worldsurfleague.com/athletes/1349/ramzi-boukhiam?isearch=true&scategory=all', 'https://www.worldsurfleague.com/athletes/2038/billy-stairmand?isearch=true&scategory=all', 'https://www.worldsurfleague.com/athletes/9167/joao-chianca?isearch=true&scategory=all', 'https://www.worldsurfleague.com/athletes/2649/andy-criere?isearch=true&scategory=all', 'https://www.worldsurfleague.com/athletes/199/john-john-florence?isearch=true&scategory=all', 'https://www.worldsurfleague.com/athletes/9341/alan-cleland?isearch=true&scategory=all', 'https://www.worldsurfleague.com/athletes/8990/kauli-vaast?isearch=true&scategory=all', 'https://www.worldsurfleague.com/athletes/4391/lucca-mesinas?isearch=true&scategory=all', 'https://www.worldsurfleague.com/athletes/3165/griffin-colapinto?isearch=true&scategory=all', 'https://www.worldsurfleague.com/athletes/9112/rio-waida?isearch=true&scategory=all', 'https://www.worldsurfleague.com/athletes/2656/leonardo-fioravanti?isearch=true&scategory=all', 'https://www.worldsurfleague.com/athletes/1490/reo-inaba?isearch=true&scategory=all']\n"
     ]
    }
   ],
   "source": [
    "urls = []\n",
    "\n",
    "for name in heats.iterrows():\n",
    "  nombre = name[1].iloc[1]\n",
    "  if nombre == 'João Chianca':\n",
    "    nombre = 'Joao Chianca'\n",
    "  norm_name= nombre.replace(' ', '-').lower()\n",
    "  url = f'https://www.worldsurfleague.com/athletes/{name[1].iloc[2]}/{norm_name}?isearch=true&scategory=all'\n",
    "  urls.append(url)\n",
    "print(urls)\n"
   ]
  },
  {
   "cell_type": "markdown",
   "metadata": {},
   "source": [
    "#### Obteniendo los datos de cada atleta"
   ]
  },
  {
   "cell_type": "code",
   "execution_count": 112,
   "metadata": {},
   "outputs": [],
   "source": [
    "import requests\n",
    "from bs4 import BeautifulSoup\n",
    "\n",
    "def get_stats (url, name, heat, filas):\n",
    "  response = requests.get(url)\n",
    "  soup = BeautifulSoup(response.content, 'html.parser')\n",
    "\n",
    "  table = soup.find_all('div', class_='new-athlete-stats__body')\n",
    "\n",
    "  headers = table[1].find_all('th')\n",
    "\n",
    "  columns =['Heat','Name']\n",
    "  columns.append(headers[0].find('span').get_text(strip=True))\n",
    "\n",
    "  columns.append('Average Points per Events')\n",
    "\n",
    "  rows = table[1].find_all('tr')\n",
    "\n",
    "  count=0;\n",
    "\n",
    "  for row in rows:\n",
    "    if not count:\n",
    "      count=1\n",
    "      continue\n",
    "    celd = [heat, name]\n",
    "    celdas = row.find_all('td')\n",
    "\n",
    "    if(celdas[2].get_text(strip=True) == '-'):\n",
    "      continue\n",
    "\n",
    "    celd.append(celdas[0].get_text(strip=True))\n",
    "\n",
    "\n",
    "\n",
    "    points = float(celdas[2].get_text(strip=True).replace(',',''))\n",
    "\n",
    "    events = float(celdas[3].get_text(strip=True).replace(',',''))\n",
    "\n",
    "    #guardamos el promedio de puntos por eventos\n",
    "    prom = points/events\n",
    "    celd.append(prom)\n",
    "\n",
    "    filas.append(celd)\n",
    "\n",
    "\n",
    "\n",
    "\n",
    "  return filas, columns\n"
   ]
  },
  {
   "cell_type": "code",
   "execution_count": 7,
   "metadata": {},
   "outputs": [
    {
     "name": "stdout",
     "output_type": "stream",
     "text": [
      "      Heat         Name  Year  Average Points per Events\n",
      "0    HEAT1  Ethan Ewing  2024                3418.571429\n",
      "1    HEAT1  Ethan Ewing  2023                4370.909091\n",
      "2    HEAT1  Ethan Ewing  2022                4026.363636\n",
      "3    HEAT1  Ethan Ewing  2021                2210.000000\n",
      "4    HEAT1  Ethan Ewing  2017                 977.272727\n",
      "..     ...          ...   ...                        ...\n",
      "193  HEAT8    Reo Inaba  2016                 261.428571\n",
      "194  HEAT8    Reo Inaba  2015                 139.333333\n",
      "195  HEAT8    Reo Inaba  2014                 125.800000\n",
      "196  HEAT8    Reo Inaba  2013                 141.400000\n",
      "197  HEAT8    Reo Inaba  2012                 115.750000\n",
      "\n",
      "[198 rows x 4 columns]\n"
     ]
    }
   ],
   "source": [
    "filas = []\n",
    "columns = []\n",
    "\n",
    "for i,url in enumerate(urls):\n",
    "\n",
    "  temp = get_stats(url, heats['Name'][i], heats['Heat'][i], filas)\n",
    "  columns = temp[1]\n",
    "  filas = temp[0]\n",
    "\n",
    "\n",
    "\n",
    "df2 = pd.DataFrame(filas, columns=columns)\n",
    "\n",
    "\n",
    "print(df2)"
   ]
  },
  {
   "cell_type": "code",
   "execution_count": 291,
   "metadata": {},
   "outputs": [],
   "source": [
    "df2.to_csv('heats.csv', index=False)"
   ]
  },
  {
   "cell_type": "code",
   "execution_count": 7,
   "metadata": {},
   "outputs": [
    {
     "name": "stdout",
     "output_type": "stream",
     "text": [
      "      Heat         Name  Year  Average Points per Events\n",
      "0    HEAT1  Ethan Ewing  2024                3988.333333\n",
      "1    HEAT1  Ethan Ewing  2023                4370.909091\n",
      "2    HEAT1  Ethan Ewing  2022                4026.363636\n",
      "3    HEAT1  Ethan Ewing  2021                2210.000000\n",
      "4    HEAT1  Ethan Ewing  2017                 977.272727\n",
      "..     ...          ...   ...                        ...\n",
      "193  HEAT8    Reo Inaba  2016                 261.428571\n",
      "194  HEAT8    Reo Inaba  2015                 139.333333\n",
      "195  HEAT8    Reo Inaba  2014                 125.800000\n",
      "196  HEAT8    Reo Inaba  2013                 141.400000\n",
      "197  HEAT8    Reo Inaba  2012                 115.750000\n",
      "\n",
      "[198 rows x 4 columns]\n"
     ]
    }
   ],
   "source": [
    "df2 = pd.read_csv('heats.csv', encoding='ISO-8859-1')\n",
    "print(df2)"
   ]
  },
  {
   "cell_type": "markdown",
   "metadata": {},
   "source": [
    "### Hallando KDE para cada atleta"
   ]
  },
  {
   "cell_type": "code",
   "execution_count": 111,
   "metadata": {},
   "outputs": [],
   "source": [
    "import random\n",
    "from sklearn.neighbors import KernelDensity\n",
    "\n",
    "df_unique = df2.drop_duplicates(subset='Name', keep='first')\n",
    "\n",
    "#lista con los atletas y kde\n",
    "kdes=[]\n",
    "\n",
    "\n",
    "for name in df_unique['Name']:\n",
    "  points = df2.loc[df2['Name'] == name, 'Average Points per Events']\n",
    "  years = df2.loc[df2['Name'] == name, 'Year']\n",
    "  dataset = points.values[:, np.newaxis]\n",
    "\n",
    "  for i in years:\n",
    "    if i == '2024' or i == '2023/2024':\n",
    "      a_1 = dataset[0][:, np.newaxis]\n",
    "\n",
    "      dataset = np.concatenate((a_1,dataset),axis=0)\n",
    "      dataset = np.concatenate((a_1,dataset),axis=0)\n",
    "\n",
    "    break\n",
    "\n",
    "  kde = KernelDensity(kernel='epanechnikov', bandwidth=1000).fit(dataset)\n",
    "\n",
    "  kdes.append([name,kde])\n"
   ]
  },
  {
   "cell_type": "markdown",
   "metadata": {},
   "source": [
    "### Método de aceptación-rechazo"
   ]
  },
  {
   "cell_type": "code",
   "execution_count": 110,
   "metadata": {},
   "outputs": [],
   "source": [
    "def global_max(kde):\n",
    "\n",
    "    # Puntos donde queremos evaluar la densidad\n",
    "    X_d = np.linspace(0, 7000,1000)[:, np.newaxis]\n",
    "\n",
    "    # Evaluar la densidad en los puntos X_d\n",
    "    log_densidad = kde.score_samples(X_d)\n",
    "    densidad = np.exp(log_densidad)\n",
    "    return np.max(densidad)\n",
    "\n",
    "#     return kde\n",
    "def evaluate_point(x,kde):\n",
    "    punto_eval = np.array([[x]])\n",
    "    log_densidad_punto = kde.score_samples(punto_eval)\n",
    "    return np.exp(log_densidad_punto)\n",
    "\n",
    "def auxiliar_v_a():\n",
    "    return 10000 * np.random.uniform(0,1)\n",
    "\n",
    "def lista_densidad(kde):\n",
    "    # Puntos donde queremos evaluar la densidad\n",
    "    X_d = np.linspace(0, 10000,1000)[:, np.newaxis]\n",
    "\n",
    "    # Evaluar la densidad en los puntos X_d\n",
    "    log_densidad = kde.score_samples(X_d)\n",
    "    return np.exp(log_densidad)\n",
    "\n",
    "# Generar muestras usando el método de aceptación-rechazo\n",
    "def accept_rejection(kde):\n",
    "\n",
    "    while True:\n",
    "        # Generar X ~ U(0, 1/c)\n",
    "        X = auxiliar_v_a()\n",
    "        # Generar U ~ U(0, 1)\n",
    "        U = np.random.uniform(0, 1)\n",
    "        # Verificar condición de aceptación\n",
    "        if U <= evaluate_point(X,kde)/ global_max(kde):  # g(x) = 1 para U(0, 1)\n",
    "            return X\n"
   ]
  },
  {
   "cell_type": "markdown",
   "metadata": {},
   "source": [
    "### Método para simular por rondas"
   ]
  },
  {
   "cell_type": "code",
   "execution_count": 109,
   "metadata": {},
   "outputs": [],
   "source": [
    "def round_1(kdes):\n",
    "\n",
    "  oficial_results=[]\n",
    "\n",
    "  for i in range(8):\n",
    "    name_result=[]\n",
    "    a=i*3\n",
    "    simulations = []\n",
    "    for j in range(3):\n",
    "      simulated_points = accept_rejection(kdes[a+j][1])\n",
    "      simulations.append((kdes[a+j][0],simulated_points))\n",
    "    simulations.sort(key=lambda x: x[1], reverse=True)\n",
    "    name_result.append([sim[0] for sim in simulations])\n",
    "\n",
    "\n",
    "    name_results = pd.DataFrame(name_result, columns=['1st', '2nd', '3rd'])\n",
    "    top_3_names = name_results.apply(pd.Series.value_counts).fillna(0).reset_index()\n",
    "    top_3_names.columns = ['Name', '1st', '2nd', '3rd']\n",
    "    top_3_names = top_3_names.sort_values(by='1st', ascending=False)\n",
    "    oficial_results.append(top_3_names)\n",
    "\n",
    "  return oficial_results\n",
    "\n",
    "\n",
    "def simulate_round(kdes, heats):\n",
    "\n",
    "  oficial_results=[]\n",
    "\n",
    "  for i in range(heats):\n",
    "    name_result=[]\n",
    "    simulations = []\n",
    "    for j in range(2):\n",
    "      simulated_points = accept_rejection(kdes[i][j][1])\n",
    "      simulations.append((kdes[i][j][0],simulated_points))\n",
    "\n",
    "    simulations.sort(key=lambda x: x[1], reverse=True)\n",
    "    name_result.append([sim[0] for sim in simulations])\n",
    "\n",
    "    name_results = pd.DataFrame(name_result, columns=['1st', '2nd'])\n",
    "    top_by_heat = name_results.apply(pd.Series.value_counts).fillna(0).reset_index()\n",
    "    top_by_heat.columns = ['Name', '1st', '2nd']\n",
    "    top_by_heat = top_by_heat.sort_values(by='1st', ascending=False)\n",
    "    oficial_results.append(top_by_heat)\n",
    "\n",
    "  return oficial_results\n"
   ]
  },
  {
   "cell_type": "markdown",
   "metadata": {},
   "source": [
    "### Métodos para actualizar los atletas luego de cada ronda"
   ]
  },
  {
   "cell_type": "code",
   "execution_count": 108,
   "metadata": {},
   "outputs": [],
   "source": [
    "\n",
    "def update_round (results, kdes, round):\n",
    "  new_kdes = []\n",
    "  for heat in results:\n",
    "    count=0\n",
    "    for name in heat.iterrows():\n",
    "      if round:\n",
    "        if count==0:\n",
    "          count= 1\n",
    "          continue\n",
    "        nombre = name[1].iloc[0]\n",
    "        for x in kdes:\n",
    "          if nombre == x[0]:\n",
    "            new_kdes.append(x)\n",
    "            break\n",
    "      else:\n",
    "        nombre = name[1].iloc[0]\n",
    "        for k in kdes:\n",
    "          if k[0] == nombre:\n",
    "            new_kdes.append(k)\n",
    "            break\n",
    "        break\n",
    "\n",
    "\n",
    "  if round == 1:\n",
    "    random.shuffle(new_kdes)\n",
    "  pairs = [(new_kdes[i], new_kdes[i+1]) for i in range(0, len(new_kdes), 2)]\n",
    "\n",
    "  return pairs, new_kdes\n",
    "\n",
    "\n",
    "def update_cruces(oficial_results, round_2_results, kdes_round_2,kdes):\n",
    "  kdes_round_3 = []\n",
    "\n",
    "  for heat in round_2_results:\n",
    "    for i in heat.iterrows():\n",
    "      nombre = i[1].iloc[0]\n",
    "      for k in kdes_round_2:\n",
    "        if k[0] == nombre:\n",
    "          kdes_round_3.append(k)\n",
    "          break\n",
    "      break\n",
    "\n",
    "  for heat in oficial_results:\n",
    "    for i in heat.iterrows():\n",
    "      nombre = i[1].iloc[0]\n",
    "      for k in kdes:\n",
    "        if k[0] == nombre:\n",
    "          kdes_round_3.append(k)\n",
    "          break\n",
    "      break\n",
    "\n",
    "  random.shuffle(kdes_round_3)\n",
    "  pairs = [(kdes_round_3[i], kdes_round_3[i+1]) for i in range(0, len(kdes_round_3), 2)]\n",
    "  return pairs, kdes_round_3\n",
    "\n",
    "\n",
    "\n",
    "def update_ranking(results, round):\n",
    "  ranking = []\n",
    "\n",
    "  for heat in results:\n",
    "    if not round:\n",
    "      count=0\n",
    "      for name in heat.iterrows():\n",
    "        if count==0:\n",
    "          count= 1\n",
    "          continue\n",
    "        nombre = name[1].iloc[0]\n",
    "        # print(nombre)\n",
    "        ranking.append(nombre)\n",
    "    else:\n",
    "      for name in heat.iterrows():\n",
    "        nombre = name[1].iloc[0]\n",
    "        ranking.append(nombre)\n",
    "      ranking.reverse()\n",
    "\n",
    "  return ranking"
   ]
  },
  {
   "cell_type": "markdown",
   "metadata": {},
   "source": [
    "### Método para simular por el torneo completo 1000 veces"
   ]
  },
  {
   "cell_type": "code",
   "execution_count": 107,
   "metadata": {},
   "outputs": [],
   "source": [
    "def simulate_tournament(kdes):\n",
    "\n",
    "  #lista que contiene el top 8 por cada simulacion\n",
    "  simulations = []\n",
    "\n",
    "  for _ in range(1000):\n",
    "    ranking = []\n",
    "\n",
    "\n",
    "    results = round_1(kdes)\n",
    "\n",
    "    #round 2\n",
    "    pairs, new_kdes= update_round(results,kdes,1)\n",
    "    results_r2 = simulate_round(pairs, 8)\n",
    "\n",
    "    #8vos de final\n",
    "    pairs, new_kdes = update_cruces(results,results_r2,new_kdes,kdes)\n",
    "    results = simulate_round(pairs,8)\n",
    "\n",
    "    #4tos de final\n",
    "    pairs, new_kdes = update_round(results,new_kdes,0)\n",
    "    results = simulate_round(pairs,4)\n",
    "    ranking+=update_ranking(results,0)\n",
    "\n",
    "\n",
    "    #semfinal\n",
    "    pairs, new_kdes = update_round(results,new_kdes,0)\n",
    "    results = simulate_round(pairs,2)\n",
    "\n",
    "\n",
    "    #3er puesto\n",
    "    pairs_3rd, kdes_3rd_place = update_round(results,new_kdes,2)\n",
    "    third_place_results = simulate_round(pairs_3rd,1)\n",
    "    ranking+=update_ranking(third_place_results,1)\n",
    "\n",
    "    #1er y 2do puesto\n",
    "    pairs, kdes_final = update_round(results,new_kdes,0)\n",
    "    final_results = simulate_round(pairs,1)\n",
    "    ranking+=update_ranking(final_results,1)\n",
    "\n",
    "    ranking.reverse()\n",
    "    simulations.append(ranking)\n",
    "\n",
    "  return simulations\n"
   ]
  },
  {
   "cell_type": "markdown",
   "metadata": {},
   "source": [
    "### Método para obtener el top 8 como resultado de las predicciones"
   ]
  },
  {
   "cell_type": "code",
   "execution_count": 106,
   "metadata": {},
   "outputs": [],
   "source": [
    "from collections import Counter\n",
    "\n",
    "def get_top_8(simulations, num_simulations=1000):\n",
    "\n",
    "  #lista de i listas, 1 <= i <= 8, donde cada una contiene los atletas y la cantidad de veces que quedo en el lugar i en el ranking\n",
    "  counters = [Counter([simulation[i] for simulation in simulations]) for i in range(len(simulations[0]))]\n",
    "  oficial_ranking = []\n",
    "\n",
    "  for i in range(8):\n",
    "\n",
    "    if not i:\n",
    "      name, count = counters[0].most_common(1)[0]\n",
    "      oficial_ranking.append([name,count/num_simulations])\n",
    "      continue\n",
    "\n",
    "    for j in range(i):\n",
    "      name, count = oficial_ranking[j]\n",
    "      if counters[i].get(name):\n",
    "        counters[i].pop(name)\n",
    "\n",
    "    name, count = counters[i].most_common(1)[0]\n",
    "\n",
    "    suma = 0\n",
    "    #calculamos la probabilidad de que el atleta quede en la posicion i luego de haber obtenido las posiciones anteriores\n",
    "    for j in range(8-i):\n",
    "      for x in counters[j+i]:\n",
    "        if x == name:\n",
    "          suma += counters[j+i][x]\n",
    "          break\n",
    "\n",
    "    prob = count/suma\n",
    "\n",
    "    oficial_ranking.append([name,prob])\n",
    "\n",
    "  suma = 0\n",
    "  #prioridades que se le otorgan a cada posicion\n",
    "  prob = [0.5, 0.3, 0.1 , 0.05 , 0.0125 , 0.0125 , 0.0125 , 0.0125]\n",
    "  for i in range(8):\n",
    "    tmp = oficial_ranking[i][1] * prob[i]\n",
    "    suma+=tmp\n",
    "\n",
    "  return oficial_ranking, suma\n"
   ]
  },
  {
   "cell_type": "code",
   "execution_count": 101,
   "metadata": {},
   "outputs": [],
   "source": [
    "simulations = simulate_tournament(kdes)\n"
   ]
  },
  {
   "cell_type": "code",
   "execution_count": 102,
   "metadata": {},
   "outputs": [],
   "source": [
    "top_8, precision = get_top_8(simulations)"
   ]
  },
  {
   "cell_type": "code",
   "execution_count": 103,
   "metadata": {},
   "outputs": [
    {
     "name": "stdout",
     "output_type": "stream",
     "text": [
      "[['John John Florence', 0.337], ['Gabriel Medina', 0.2786596119929453], ['Griffin Colapinto', 0.2595573440643863], ['Jordy Smith', 0.2808988764044944], ['Ramzi Boukhiam', 0.2857142857142857], ['Kanoa lgarashi', 0.3333333333333333], ['Rio Waida', 0.5534591194968553], ['Ethan Ewing', 1.0]]\n",
      "0.3192548960563528\n"
     ]
    }
   ],
   "source": [
    "print(top_8)\n",
    "print(precision)"
   ]
  }
 ],
 "metadata": {
  "kernelspec": {
   "display_name": "Python 3",
   "language": "python",
   "name": "python3"
  },
  "language_info": {
   "codemirror_mode": {
    "name": "ipython",
    "version": 3
   },
   "file_extension": ".py",
   "mimetype": "text/x-python",
   "name": "python",
   "nbconvert_exporter": "python",
   "pygments_lexer": "ipython3",
   "version": "3.12.3"
  }
 },
 "nbformat": 4,
 "nbformat_minor": 2
}
